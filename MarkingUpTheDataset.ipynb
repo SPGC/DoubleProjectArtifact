{
 "cells": [
  {
   "cell_type": "code",
   "execution_count": 1,
   "id": "0deeddf6-69f0-4d59-a284-a24dedb78c4f",
   "metadata": {},
   "outputs": [],
   "source": [
    "import cv2 as cv\n",
    "import numpy as np\n",
    "import os\n",
    "import matplotlib.pyplot as plt\n",
    "from sklearn.mixture import GaussianMixture\n",
    "from tqdm import tqdm"
   ]
  },
  {
   "cell_type": "code",
   "execution_count": 2,
   "id": "8815d2ad-84a3-4c3c-ba53-af5ebf66a73d",
   "metadata": {},
   "outputs": [],
   "source": [
    "data_dir = \"/home/ilia/datasets/raw_img/\""
   ]
  },
  {
   "cell_type": "code",
   "execution_count": 3,
   "id": "415f5883-6c35-4821-9dd2-54e470fcf802",
   "metadata": {},
   "outputs": [],
   "source": [
    "files = os.listdir(data_dir)"
   ]
  },
  {
   "cell_type": "code",
   "execution_count": 4,
   "id": "6f048042-caad-4b30-9596-517bee227898",
   "metadata": {},
   "outputs": [],
   "source": [
    "files.sort()\n",
    "files = [file for file in files if file.split(\".\")[-1] == \"png\"]"
   ]
  },
  {
   "cell_type": "code",
   "execution_count": 5,
   "id": "dc78b1ca-d513-4d95-8dbd-60ec8eeed651",
   "metadata": {},
   "outputs": [
    {
     "name": "stderr",
     "output_type": "stream",
     "text": [
      "100%|████████████████████████████████████████| 520/520 [00:04<00:00, 110.02it/s]\n"
     ]
    }
   ],
   "source": [
    "images = []\n",
    "for file in tqdm(files):\n",
    "    image = cv.cvtColor(cv.imread(data_dir+file), cv.COLOR_BGR2RGB)\n",
    "    image = image[image.shape[0]//2:,:,:]\n",
    "    images.append(image)"
   ]
  },
  {
   "cell_type": "code",
   "execution_count": 8,
   "id": "69a4045f-f004-48a8-bd81-ec58f801271d",
   "metadata": {},
   "outputs": [
    {
     "name": "stderr",
     "output_type": "stream",
     "text": [
      "520it [00:13, 39.99it/s] \n"
     ]
    }
   ],
   "source": [
    "huge_image = images[0].copy()\n",
    "for i, image in tqdm(enumerate(images)):\n",
    "    if i == 0:\n",
    "        continue\n",
    "    huge_image = np.vstack((huge_image, image))"
   ]
  },
  {
   "cell_type": "code",
   "execution_count": 9,
   "id": "1f967b24-0501-439a-aa9e-787358b789a3",
   "metadata": {},
   "outputs": [
    {
     "data": {
      "text/plain": [
       "<matplotlib.image.AxesImage at 0x7feb6c2cdd00>"
      ]
     },
     "execution_count": 9,
     "metadata": {},
     "output_type": "execute_result"
    },
    {
     "data": {
      "image/png": "[encoded data removed]",
      "text/plain": [
       "<Figure size 640x480 with 1 Axes>"
      ]
     },
     "metadata": {},
     "output_type": "display_data"
    }
   ],
   "source": [
    "plt.imshow(huge_image)"
   ]
  },
  {
   "cell_type": "code",
   "execution_count": 10,
   "id": "6cb3f88c-854f-4dfe-8a76-5098041a4e40",
   "metadata": {},
   "outputs": [],
   "source": [
    "algo = GaussianMixture(n_components=3)\n",
    "\n",
    "mask = algo.fit_predict(huge_image.reshape((-1,3)))\n",
    "# plt.imshow(mask.reshape(images[0].shape[:-1]))"
   ]
  },
  {
   "cell_type": "code",
   "execution_count": 11,
   "id": "ff8d4211-4ce3-40f4-8582-633fb018b29e",
   "metadata": {},
   "outputs": [],
   "source": [
    "result_dir = \"/home/ilia/datasets/masks/\"\n",
    "combo_dir = \"/home/ilia/datasets/mask+raw/\"\n",
    "new_dir = \"/home/ilia/datasets/mask_raw_common/\""
   ]
  },
  {
   "cell_type": "code",
   "execution_count": 13,
   "id": "6c306af5-8649-439d-8b98-f1d220729d4c",
   "metadata": {},
   "outputs": [],
   "source": [
    "mask = mask.reshape((-1, images[0].shape[1]))"
   ]
  },
  {
   "cell_type": "code",
   "execution_count": 15,
   "id": "d8ef5d2b-ace9-420e-91d5-83699cc8124c",
   "metadata": {},
   "outputs": [
    {
     "name": "stderr",
     "output_type": "stream",
     "text": [
      "520it [00:45, 11.42it/s]\n"
     ]
    }
   ],
   "source": [
    "for i, image in tqdm(enumerate(images)):\n",
    "    cur_mask = mask[i * image.shape[0]:(i+1) * image.shape[0], :]\n",
    "    # cur_mask = np.dstack((cur_mask * 100, cur_mask * 100, cur_mask * 100))\n",
    "    figure, axis = plt.subplots(1,2)\n",
    "    axis[0].imshow(cur_mask)\n",
    "    axis[1].imshow(image)\n",
    "    plt.savefig(new_dir+files[i])\n",
    "    plt.close()"
   ]
  },
  {
   "cell_type": "code",
   "execution_count": 35,
   "id": "9a3287e0-7fda-43cc-a882-a6e67caf5162",
   "metadata": {},
   "outputs": [
    {
     "name": "stderr",
     "output_type": "stream",
     "text": [
      "520it [13:22,  1.54s/it]\n"
     ]
    }
   ],
   "source": [
    "for i, image in tqdm(enumerate(images)):\n",
    "    algo = GaussianMixture(n_components=3)\n",
    "    mask = algo.fit_predict(image.reshape((-1,3))).reshape(image.shape[:-1])\n",
    "    result = np.dstack((mask * 100, mask * 100, mask * 100))\n",
    "    cv.imwrite(result_dir + files[i],result)\n",
    "    figure, axis = plt.subplots(1,2)\n",
    "    axis[0].imshow(mask)\n",
    "    axis[1].imshow(image)\n",
    "    plt.savefig(combo_dir+files[i])\n",
    "    plt.close()"
   ]
  },
  {
   "cell_type": "code",
   "execution_count": null,
   "id": "238d68c8-ef5f-48d7-be27-26c6e0146f16",
   "metadata": {},
   "outputs": [],
   "source": []
  }
 ],
 "metadata": {
  "kernelspec": {
   "display_name": "Python 3 (ipykernel)",
   "language": "python",
   "name": "python3"
  },
  "language_info": {
   "codemirror_mode": {
    "name": "ipython",
    "version": 3
   },
   "file_extension": ".py",
   "mimetype": "text/x-python",
   "name": "python",
   "nbconvert_exporter": "python",
   "pygments_lexer": "ipython3",
   "version": "3.8.10"
  }
 },
 "nbformat": 4,
 "nbformat_minor": 5
}
